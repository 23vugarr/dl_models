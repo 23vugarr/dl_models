{
 "cells": [
  {
   "cell_type": "code",
   "execution_count": 30,
   "metadata": {},
   "outputs": [
    {
     "name": "stdout",
     "output_type": "stream",
     "text": [
      "Materials Id 339\n",
      "Formula 114\n",
      "Spacegroup 44\n",
      "Formation Energy (eV) 251\n",
      "E Above Hull (eV) 108\n",
      "Band Gap (eV) 307\n",
      "Nsites 49\n",
      "Density (gm/cc) 300\n",
      "Volume 339\n",
      "Has Bandstructure 2\n",
      "Crystal System 3\n"
     ]
    }
   ],
   "source": [
    "import pandas as pd\n",
    "import numpy as np\n",
    "import matplotlib.pyplot as plt\n",
    "from sklearn.preprocessing import StandardScaler\n",
    "from sklearn.model_selection import train_test_split\n",
    "import seaborn as sns\n",
    "from warnings import filterwarnings\n",
    "filterwarnings('ignore')\n",
    "\n",
    "df = pd.read_csv('lithium-ion batteries.csv')\n",
    "\n",
    "for i in df.columns:\n",
    "    print(i, df[i].nunique())"
   ]
  },
  {
   "cell_type": "code",
   "execution_count": 31,
   "metadata": {},
   "outputs": [],
   "source": [
    "df['Has Bandstructure'] = np.where(df['Has Bandstructure'] == True, 1, 0)\n",
    "df['Nsites'] = df['Nsites'].astype('float64')\n"
   ]
  },
  {
   "cell_type": "code",
   "execution_count": 32,
   "metadata": {},
   "outputs": [
    {
     "data": {
      "text/plain": [
       "monoclinic      139\n",
       "orthorhombic    128\n",
       "triclinic        72\n",
       "Name: Crystal System, dtype: int64"
      ]
     },
     "execution_count": 32,
     "metadata": {},
     "output_type": "execute_result"
    }
   ],
   "source": [
    "# # split formula into elements if new element starts with capital letter\n",
    "# df['Formula'] = df['Formula'].str.replace('([A-Z])', r' \\1').str.strip().str.split(' ')\n",
    "\n",
    "# # one hot encoding Formula to their count and multiply\n",
    "# df = df.join(pd.get_dummies(df['Formula'].apply(pd.Series).stack()).sum(level=0))\n",
    "\n",
    "# find count of elements in formula\n",
    "# df['Formula'] = df['Formula'].str.replace('([A-Z])', r' \\1').str.strip().str.split(' ')\n",
    "# df['Formula'] = df['Formula'].apply(lambda x: len(x))\n",
    "# df['Formula']\n",
    "\n",
    "df['Crystal System'].value_counts()"
   ]
  },
  {
   "cell_type": "code",
   "execution_count": 33,
   "metadata": {},
   "outputs": [],
   "source": [
    "def sigmoid(x):\n",
    "    return 1/(1 + np.exp(-x))\n",
    "\n",
    "def dersigmoid(x):\n",
    "    return x * (1.0 - x)\n",
    "\n",
    "def loss_func(x, y):\n",
    "    return (x - y) ** 2\n",
    "\n",
    "def relu(x):\n",
    "    return np.maximum(0,x)\n",
    "\n",
    "def derrelu(x):\n",
    "    return np.where(x>0, 1, 0)\n",
    "\n",
    "def softmax(x):\n",
    "    return np.exp(x)/np.sum(np.exp(x), axis=0)\n",
    "\n",
    "def dersoftmax(x):\n",
    "    return softmax(x) * (1 - softmax(x))\n",
    "\n",
    "def dropout(x, p):\n",
    "    increase = 1/(1-p)\n",
    "    return np.where(np.random.rand(*x.shape) > p, x, 0) * increase\n",
    "\n",
    "def l2_reg(x, lam):\n",
    "    return lam * np.sum(x**2)"
   ]
  },
  {
   "cell_type": "code",
   "execution_count": 47,
   "metadata": {},
   "outputs": [],
   "source": [
    "features = df.drop(columns=['Materials Id', 'Formula', 'Spacegroup', 'Crystal System'], axis=1)\n",
    "target = np.array(pd.get_dummies(df['Crystal System']).astype('float64'))\n",
    "\n",
    "features = np.array(features)\n",
    "features = StandardScaler().fit_transform(features)\n",
    "\n",
    "xtrain, xtest, ytrain, ytest = train_test_split(features, target, random_state=2, test_size=0.2, stratify=target)"
   ]
  },
  {
   "cell_type": "code",
   "execution_count": 48,
   "metadata": {},
   "outputs": [],
   "source": [
    "def train(xtrain, ytrain, epochs):\n",
    "\n",
    "    w1 = np.random.random((features.shape[1], 12)) - 0.5\n",
    "    w2 = np.random.random((12, 24)) - 0.5\n",
    "    w3 = np.random.random((24, 3)) - 0.5\n",
    "\n",
    "    for epoch in range(epochs):\n",
    "        errors = 0\n",
    "        for i in range(len(xtrain)):\n",
    "            ytarget = ytrain[i: i+1]\n",
    "\n",
    "            inpt = xtrain[i: i+1]\n",
    "            layer1 = sigmoid(np.dot(inpt, w1))\n",
    "            layer2 = sigmoid(np.dot(layer1, w2))\n",
    "            outpt = sigmoid(np.dot(layer2, w3))\n",
    "\n",
    "            error = np.sum(loss_func(outpt, ytarget))\n",
    "            errors += error\n",
    "\n",
    "            # back prop\n",
    "            delta3 = (ytarget - outpt) * dersigmoid(outpt)\n",
    "            delta2 = delta3.dot(w3.T) * dersigmoid(layer2)\n",
    "            delta1 = delta2.dot(w2.T) * dersigmoid(layer1)\n",
    "\n",
    "            w3 += layer2.T.dot(delta3)\n",
    "            w2 += layer1.T.dot(delta2)\n",
    "            w1 += inpt.T.dot(delta1)\n",
    "\n",
    "            dropout(layer1, 0.2)\n",
    "            dropout(layer2, 0.2)\n",
    "\n",
    "        \n",
    "    return w1, w2, w3\n"
   ]
  },
  {
   "cell_type": "code",
   "execution_count": 49,
   "metadata": {},
   "outputs": [],
   "source": [
    "w1, w2, w3 = train(xtrain, ytrain, 100)\n",
    "\n",
    "# train via cross validation\n",
    "# def cross_val(xtrain, ytrain, epochs):\n",
    "#     errors = []\n",
    "#     for i in range(5):\n",
    "#         xtrain, xtest, ytrain, ytest = train_test_split(xtrain, ytrain, random_state=2, test_size=0.2)\n",
    "#         w1, w2, w3 = train(xtrain, ytrain, epochs)\n",
    "#         errors.append(test(xtest, ytest, w1, w2, w3))\n",
    "#     return np.mean(errors)\n",
    "\n",
    "# print(cross_val(xtrain, ytrain, 250))\n"
   ]
  },
  {
   "cell_type": "code",
   "execution_count": 50,
   "metadata": {},
   "outputs": [],
   "source": [
    "def predict(xtest, w1, w2, w3):\n",
    "    layer1 = sigmoid(np.dot(xtest, w1))\n",
    "    layer2 = sigmoid(np.dot(layer1, w2))\n",
    "    outpt = sigmoid(np.dot(layer2, w3))\n",
    "    return np.argmax(outpt)"
   ]
  },
  {
   "cell_type": "code",
   "execution_count": 51,
   "metadata": {},
   "outputs": [],
   "source": [
    "def accuracy(ytest, ypred):\n",
    "    correct = 0\n",
    "    for i in range(len(ytest)):\n",
    "        if ytest[i] == ypred[i]:\n",
    "            correct += 1\n",
    "    return correct / len(ytest)"
   ]
  },
  {
   "cell_type": "code",
   "execution_count": 52,
   "metadata": {},
   "outputs": [
    {
     "data": {
      "text/plain": [
       "0.5"
      ]
     },
     "execution_count": 52,
     "metadata": {},
     "output_type": "execute_result"
    }
   ],
   "source": [
    "results = []\n",
    "\n",
    "for i in range(len(xtest)):\n",
    "    prediction = predict(xtest[i: i+1], w1, w2, w3)\n",
    "    results.append(prediction)\n",
    "\n",
    "y_tests = []\n",
    "ytest = list(ytest)\n",
    "for i in range(len(ytest)):\n",
    "    y_tests.append(np.argmax(ytest[i]))   \n",
    "\n",
    "accuracy(y_tests, results)"
   ]
  },
  {
   "cell_type": "code",
   "execution_count": 53,
   "metadata": {},
   "outputs": [
    {
     "data": {
      "text/plain": [
       "0.8265682656826568"
      ]
     },
     "execution_count": 53,
     "metadata": {},
     "output_type": "execute_result"
    }
   ],
   "source": [
    "results = []\n",
    "\n",
    "for i in range(len(xtrain)):\n",
    "    prediction = predict(xtrain[i: i+1], w1, w2, w3)\n",
    "    results.append(prediction)\n",
    "\n",
    "y_tests = []\n",
    "ytest = list(ytrain)\n",
    "for i in range(len(ytrain)):\n",
    "    y_tests.append(np.argmax(ytrain[i]))  \n",
    "\n",
    "accuracy(y_tests, results) "
   ]
  },
  {
   "cell_type": "code",
   "execution_count": 12,
   "metadata": {},
   "outputs": [],
   "source": [
    "def confusion_matrix(ytest, ypred):\n",
    "    matrix = np.zeros((3,3))\n",
    "    for i in range(len(ytest)):\n",
    "        if ytest[i] == ypred[i]:\n",
    "            if ytest[i] == 0:\n",
    "                matrix[0][0] += 1\n",
    "            else:\n",
    "                matrix[1][1] += 1\n",
    "        else:\n",
    "            if ytest[i] == 0:\n",
    "                matrix[0][1] += 1\n",
    "            else:\n",
    "                matrix[1][0] += 1\n",
    "    return matrix\n",
    "\n"
   ]
  },
  {
   "cell_type": "code",
   "execution_count": 13,
   "metadata": {},
   "outputs": [
    {
     "data": {
      "text/plain": [
       "array([[101.,  13.,   0.],\n",
       "       [ 15., 142.,   0.],\n",
       "       [  0.,   0.,   0.]])"
      ]
     },
     "execution_count": 13,
     "metadata": {},
     "output_type": "execute_result"
    }
   ],
   "source": [
    "confusion_matrix(y_tests, results)"
   ]
  },
  {
   "cell_type": "code",
   "execution_count": null,
   "metadata": {},
   "outputs": [],
   "source": []
  }
 ],
 "metadata": {
  "kernelspec": {
   "display_name": "Python 3.9.12 ('base')",
   "language": "python",
   "name": "python3"
  },
  "language_info": {
   "codemirror_mode": {
    "name": "ipython",
    "version": 3
   },
   "file_extension": ".py",
   "mimetype": "text/x-python",
   "name": "python",
   "nbconvert_exporter": "python",
   "pygments_lexer": "ipython3",
   "version": "3.9.12 (main, Apr  4 2022, 05:22:27) [MSC v.1916 64 bit (AMD64)]"
  },
  "orig_nbformat": 4,
  "vscode": {
   "interpreter": {
    "hash": "ba759551246448c033ecf26634bb9d14f4d7cf2696eef111ebda74c29f6f170b"
   }
  }
 },
 "nbformat": 4,
 "nbformat_minor": 2
}
