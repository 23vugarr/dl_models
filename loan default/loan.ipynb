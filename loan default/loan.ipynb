{
 "cells": [
  {
   "cell_type": "code",
   "execution_count": 128,
   "metadata": {},
   "outputs": [],
   "source": [
    "import pandas as pd\n",
    "import numpy as np\n",
    "import matplotlib.pyplot as plt\n",
    "import seaborn as sns\n",
    "%matplotlib inline\n",
    "\n",
    "df = pd.read_csv('Loan_Default.csv')\n",
    "df = df.drop(columns=['ID', 'year'])\n"
   ]
  },
  {
   "cell_type": "code",
   "execution_count": 129,
   "metadata": {},
   "outputs": [],
   "source": [
    "for i in df.columns:\n",
    "    if(df[i].dtype not in ['object', 'str']):\n",
    "        df[i].fillna(df[i].mean(), inplace=True)\n",
    "        \n",
    "df.dropna(inplace=True)"
   ]
  },
  {
   "cell_type": "code",
   "execution_count": 130,
   "metadata": {},
   "outputs": [],
   "source": [
    "for i in df.columns:\n",
    "    if(df[i].dtype in ['object', 'str'] and i != 'Status'):\n",
    "        df = pd.concat([pd.get_dummies(df[i]).astype('int64'), df.drop(columns=i)], axis=1)\n"
   ]
  },
  {
   "cell_type": "code",
   "execution_count": 155,
   "metadata": {},
   "outputs": [],
   "source": [
    "from sklearn.model_selection import train_test_split\n",
    "from sklearn.preprocessing import StandardScaler\n",
    "\n",
    "target = np.array(df['Status'])\n",
    "features = StandardScaler().fit_transform(np.array(df.drop(columns='Status')))\n",
    "\n",
    "xtrain, xtest, ytrain, ytest = train_test_split(features, target, test_size=0.2, random_state=42)\n"
   ]
  },
  {
   "cell_type": "code",
   "execution_count": 156,
   "metadata": {},
   "outputs": [],
   "source": [
    "import tensorflow as tf\n",
    "from tensorflow.keras.models import Sequential\n",
    "from tensorflow.keras.layers import Dense, Dropout, BatchNormalization\n",
    "from tensorflow.keras import regularizers\n",
    "from tensorflow.keras.optimizers import Adam"
   ]
  },
  {
   "cell_type": "code",
   "execution_count": 157,
   "metadata": {},
   "outputs": [
    {
     "name": "stderr",
     "output_type": "stream",
     "text": [
      "c:\\Users\\Vugar\\AppData\\Local\\Programs\\Python\\Python39\\lib\\site-packages\\keras\\optimizers\\optimizer_v2\\adam.py:114: UserWarning: The `lr` argument is deprecated, use `learning_rate` instead.\n",
      "  super().__init__(name, **kwargs)\n"
     ]
    }
   ],
   "source": [
    "model = Sequential()\n",
    "\n",
    "model.add(Dense(64, activation='relu', input_shape=(xtrain.shape[1],)))\n",
    "model.add(BatchNormalization())\n",
    "model.add(Dropout(0.2))\n",
    "\n",
    "model.add(Dense(512, activation='relu', kernel_regularizer='l2'))\n",
    "model.add(BatchNormalization())\n",
    "model.add(Dropout(0.2))\n",
    "\n",
    "model.add(Dense(256, activation='relu',  kernel_regularizer='l2'))\n",
    "model.add(BatchNormalization())\n",
    "model.add(Dropout(0.2))\n",
    "\n",
    "model.add(Dense(64, activation='relu',  kernel_regularizer='l2'))\n",
    "model.add(BatchNormalization())\n",
    "model.add(Dropout(0.2))\n",
    "\n",
    "model.add(Dense(1, activation='sigmoid'))\n",
    "\n",
    "model.compile(optimizer=Adam(lr=0.001), loss='binary_crossentropy', metrics=['accuracy'])"
   ]
  },
  {
   "cell_type": "code",
   "execution_count": 175,
   "metadata": {},
   "outputs": [
    {
     "name": "stdout",
     "output_type": "stream",
     "text": [
      "Epoch 1/10\n",
      "3600/3600 [==============================] - 18s 5ms/step - loss: 0.0243 - accuracy: 0.9960 - val_loss: 0.0176 - val_accuracy: 0.9997\n",
      "Epoch 2/10\n",
      "3600/3600 [==============================] - 13s 4ms/step - loss: 0.0248 - accuracy: 0.9962 - val_loss: 0.0139 - val_accuracy: 0.9992\n",
      "Epoch 3/10\n",
      "3600/3600 [==============================] - 13s 4ms/step - loss: 0.0228 - accuracy: 0.9962 - val_loss: 0.0128 - val_accuracy: 0.9992\n",
      "Epoch 4/10\n",
      "3600/3600 [==============================] - 13s 4ms/step - loss: 0.0241 - accuracy: 0.9963 - val_loss: 0.0135 - val_accuracy: 0.9996\n",
      "Epoch 5/10\n",
      "3600/3600 [==============================] - 14s 4ms/step - loss: 0.0217 - accuracy: 0.9966 - val_loss: 0.0103 - val_accuracy: 0.9994\n",
      "Epoch 6/10\n",
      "3600/3600 [==============================] - 14s 4ms/step - loss: 0.0227 - accuracy: 0.9966 - val_loss: 0.0131 - val_accuracy: 0.9991\n",
      "Epoch 7/10\n",
      "3600/3600 [==============================] - 13s 4ms/step - loss: 0.0201 - accuracy: 0.9970 - val_loss: 0.0117 - val_accuracy: 0.9993\n",
      "Epoch 8/10\n",
      "3600/3600 [==============================] - 15s 4ms/step - loss: 0.0213 - accuracy: 0.9971 - val_loss: 0.0093 - val_accuracy: 0.9998\n",
      "Epoch 9/10\n",
      "3600/3600 [==============================] - 16s 4ms/step - loss: 0.0192 - accuracy: 0.9970 - val_loss: 0.0105 - val_accuracy: 0.9998\n",
      "Epoch 10/10\n",
      "3600/3600 [==============================] - 15s 4ms/step - loss: 0.0198 - accuracy: 0.9969 - val_loss: 0.0105 - val_accuracy: 0.9994\n"
     ]
    }
   ],
   "source": [
    "train = model.fit(\n",
    "    xtrain, ytrain,\n",
    "    epochs=10,\n",
    "    batch_size=32,\n",
    "    validation_data=(xtest, ytest)\n",
    ")"
   ]
  },
  {
   "cell_type": "code",
   "execution_count": 177,
   "metadata": {},
   "outputs": [
    {
     "name": "stdout",
     "output_type": "stream",
     "text": [
      "900/900 [==============================] - 1s 1ms/step - loss: 0.0105 - accuracy: 0.9994\n"
     ]
    },
    {
     "data": {
      "text/plain": [
       "[0.010542315430939198, 0.9993749260902405]"
      ]
     },
     "execution_count": 177,
     "metadata": {},
     "output_type": "execute_result"
    }
   ],
   "source": [
    "model.evaluate(xtest, ytest)"
   ]
  },
  {
   "cell_type": "code",
   "execution_count": 178,
   "metadata": {},
   "outputs": [
    {
     "name": "stdout",
     "output_type": "stream",
     "text": [
      "900/900 [==============================] - 1s 1ms/step\n",
      "[[21698     9]\n",
      " [    9  7081]]\n"
     ]
    },
    {
     "data": {
      "text/plain": [
       "0.9987306064880113"
      ]
     },
     "execution_count": 178,
     "metadata": {},
     "output_type": "execute_result"
    }
   ],
   "source": [
    "from sklearn.metrics import confusion_matrix, f1_score\n",
    "\n",
    "y_pred = model.predict(xtest)\n",
    "y_pred = (y_pred > 0.5)\n",
    "\n",
    "cm = confusion_matrix(ytest, y_pred)\n",
    "print(cm)\n",
    "\n",
    "f1_score(ytest, y_pred)"
   ]
  },
  {
   "cell_type": "code",
   "execution_count": null,
   "metadata": {},
   "outputs": [],
   "source": []
  }
 ],
 "metadata": {
  "kernelspec": {
   "display_name": "Python 3",
   "language": "python",
   "name": "python3"
  },
  "language_info": {
   "codemirror_mode": {
    "name": "ipython",
    "version": 3
   },
   "file_extension": ".py",
   "mimetype": "text/x-python",
   "name": "python",
   "nbconvert_exporter": "python",
   "pygments_lexer": "ipython3",
   "version": "3.9.12"
  },
  "orig_nbformat": 4,
  "vscode": {
   "interpreter": {
    "hash": "c815d5522d730692d6fc1bd8cf8011d5716afbe816a33b6bfcadd78ff6b33837"
   }
  }
 },
 "nbformat": 4,
 "nbformat_minor": 2
}
