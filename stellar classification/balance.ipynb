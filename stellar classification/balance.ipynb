{
 "cells": [
  {
   "attachments": {},
   "cell_type": "markdown",
   "metadata": {},
   "source": [
    "### importing libraries"
   ]
  },
  {
   "cell_type": "code",
   "execution_count": 7,
   "metadata": {},
   "outputs": [],
   "source": [
    "from web3 import Web3\n",
    "import json"
   ]
  },
  {
   "attachments": {},
   "cell_type": "markdown",
   "metadata": {},
   "source": [
    "### connecting to mainnet"
   ]
  },
  {
   "cell_type": "code",
   "execution_count": 8,
   "metadata": {},
   "outputs": [
    {
     "data": {
      "text/plain": [
       "True"
      ]
     },
     "execution_count": 8,
     "metadata": {},
     "output_type": "execute_result"
    }
   ],
   "source": [
    "provider = \"https://mainnet.infura.io/v3/efc97d701dac48b4ad120aa7c4c24da4\"\n",
    "web3_client = Web3(Web3.HTTPProvider(provider))\n",
    "\n",
    "web3_client.isConnected()"
   ]
  },
  {
   "attachments": {},
   "cell_type": "markdown",
   "metadata": {},
   "source": [
    "### openning abi json which includes get_balance function and etc."
   ]
  },
  {
   "cell_type": "code",
   "execution_count": 9,
   "metadata": {},
   "outputs": [],
   "source": [
    "with open(\"abi1.json\") as f:\n",
    "    minAbi = json.load(f)\n",
    "# comment"
   ]
  },
  {
   "attachments": {},
   "cell_type": "markdown",
   "metadata": {},
   "source": [
    "### wallet and token addresses"
   ]
  },
  {
   "cell_type": "code",
   "execution_count": 11,
   "metadata": {},
   "outputs": [
    {
     "name": "stdout",
     "output_type": "stream",
     "text": [
      "2E-18\n"
     ]
    }
   ],
   "source": [
    "wallet = '0x53222470cdcfb8081c0e3a50fd106f0d69e63f20'\n",
    "token = '0xae7ab96520DE3A18E5e111B5EaAb095312D7fE84'\n",
    "\n",
    "def get_balance(address, token_address):\n",
    "    # only accept checksum addresses\n",
    "    token_address = Web3.toChecksumAddress(token_address)\n",
    "    address = Web3.toChecksumAddress(address)\n",
    "\n",
    "    # calling the contract function to get the balance\n",
    "    contract = web3_client.eth.contract(address=token_address, abi=minAbi)\n",
    "    result = contract.functions.balanceOf(address).call()\n",
    "    format = web3_client.fromWei(result, \"ether\")\n",
    "\n",
    "    # return the balance\n",
    "    return format\n",
    "\n",
    "print(get_balance(wallet, token))"
   ]
  },
  {
   "attachments": {},
   "cell_type": "markdown",
   "metadata": {},
   "source": [
    "### getting only ethereum balance"
   ]
  },
  {
   "cell_type": "code",
   "execution_count": 5,
   "metadata": {},
   "outputs": [
    {
     "name": "stdout",
     "output_type": "stream",
     "text": [
      "0.017758625899274805\n"
     ]
    }
   ],
   "source": [
    "# get ethereuem balance of last block miner\n",
    "result = web3_client.eth.get_balance('0x763A639b5D6ce5de313237004BD6f5c87067f5a8')\n",
    "format = web3_client.fromWei(result, \"ether\")\n",
    "print(format)"
   ]
  },
  {
   "cell_type": "code",
   "execution_count": 49,
   "metadata": {},
   "outputs": [],
   "source": [
    "# https://chainstack.com/querying-full-and-archive-evm-nodes-with-python/"
   ]
  },
  {
   "attachments": {},
   "cell_type": "markdown",
   "metadata": {},
   "source": [
    "### getting pool information"
   ]
  },
  {
   "cell_type": "code",
   "execution_count": 12,
   "metadata": {},
   "outputs": [],
   "source": [
    "with open(\"abi.json\") as f:\n",
    "    minAbi = json.load(f)\n",
    "\n",
    "# get pool function in uniswap factory cntract\n",
    "def get_pool(token0, token1):\n",
    "    token0 = Web3.toChecksumAddress(token0)\n",
    "    token1 = Web3.toChecksumAddress(token1)\n",
    "    factory = '0xc0a47dFe034B400B47bDaD5FecDa2621de6c4d95'\n",
    "    factory = Web3.toChecksumAddress(factory)\n",
    "    contract = web3_client.eth.contract(address=factory, abi=minAbi)\n",
    "    result = contract.functions.getPool(token0, token1).call()\n",
    "    return result\n",
    "\n",
    "# get token0 and token1 in pool\n",
    "def get_tokens(pool):\n",
    "    pool = Web3.toChecksumAddress(pool)\n",
    "    contract = web3_client.eth.contract(address=pool, abi=minAbi)\n",
    "    token0 = contract.functions.token0().call()\n",
    "    token1 = contract.functions.token1().call()\n",
    "    return token0, token1\n",
    "\n",
    "# get reserve0 and reserve1 in pool\n",
    "def get_reserves(pool):\n",
    "    pool = Web3.toChecksumAddress(pool)\n",
    "    contract = web3_client.eth.contract(address=pool, abi=minAbi)\n",
    "    reserve0, reserve1, _ = contract.functions.getReserves().call()\n",
    "    return reserve0, reserve1\n",
    "\n",
    "# get price of token0 and token1 in pool\n",
    "def get_price(pool):\n",
    "    pool = Web3.toChecksumAddress(pool)\n",
    "    contract = web3_client.eth.contract(address=pool, abi=minAbi)\n",
    "    reserve0, reserve1, _ = contract.functions.getReserves().call()\n",
    "    token0, token1 = get_tokens(pool)\n",
    "    token0 = Web3.toChecksumAddress(token0)\n",
    "    token1 = Web3.toChecksumAddress(token1)\n",
    "    contract0 = web3_client.eth.contract(address=token0, abi=minAbi)\n",
    "    contract1 = web3_client.eth.contract(address=token1, abi=minAbi)\n",
    "    decimals0 = contract0.functions.decimals().call()\n",
    "    decimals1 = contract1.functions.decimals().call()\n",
    "    price0 = reserve0 / (10 ** decimals0)\n",
    "    price1 = reserve1 / (10 ** decimals1)\n",
    "    return price0, price1\n"
   ]
  },
  {
   "cell_type": "code",
   "execution_count": 13,
   "metadata": {},
   "outputs": [],
   "source": [
    "# write getPool function in uniswap factory contract \n",
    "contract = web3_client.eth.contract(address='0x1F98431c8aD98523631AE4a59f267346ea31F984', abi=minAbi)\n",
    "order = contract.functions.getPool(\"0xa0b86991c6218b36c1d19d4a2e9eb0ce3606eb48\", \"0xC02aaA39b223FE8D0A0e5C4F27eAD9083C756Cc2\", 3000)"
   ]
  },
  {
   "cell_type": "code",
   "execution_count": 14,
   "metadata": {},
   "outputs": [
    {
     "data": {
      "text/plain": [
       "<Function getPool(address,address,uint24) bound to ('0xa0b86991c6218b36c1d19d4a2e9eb0ce3606eb48', '0xC02aaA39b223FE8D0A0e5C4F27eAD9083C756Cc2', 3000)>"
      ]
     },
     "execution_count": 14,
     "metadata": {},
     "output_type": "execute_result"
    }
   ],
   "source": [
    "# show info of pool\n",
    "order"
   ]
  },
  {
   "cell_type": "code",
   "execution_count": 15,
   "metadata": {},
   "outputs": [
    {
     "data": {
      "text/plain": [
       "'0x8ad599c3A0ff1De082011EFDDc58f1908eb6e6D8'"
      ]
     },
     "execution_count": 15,
     "metadata": {},
     "output_type": "execute_result"
    }
   ],
   "source": [
    "contract.functions.getPool(Web3.toChecksumAddress(\"0xa0b86991c6218b36c1d19d4a2e9eb0ce3606eb48\"), Web3.toChecksumAddress(\"0xc02aaa39b223fe8d0a0e5c4f27ead9083c756cc2\"), 3000).call()"
   ]
  },
  {
   "cell_type": "code",
   "execution_count": null,
   "metadata": {},
   "outputs": [],
   "source": []
  }
 ],
 "metadata": {
  "kernelspec": {
   "display_name": "Python 3",
   "language": "python",
   "name": "python3"
  },
  "language_info": {
   "codemirror_mode": {
    "name": "ipython",
    "version": 3
   },
   "file_extension": ".py",
   "mimetype": "text/x-python",
   "name": "python",
   "nbconvert_exporter": "python",
   "pygments_lexer": "ipython3",
   "version": "3.9.12"
  },
  "orig_nbformat": 4,
  "vscode": {
   "interpreter": {
    "hash": "c815d5522d730692d6fc1bd8cf8011d5716afbe816a33b6bfcadd78ff6b33837"
   }
  }
 },
 "nbformat": 4,
 "nbformat_minor": 2
}
