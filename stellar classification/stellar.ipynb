{
 "cells": [
  {
   "cell_type": "code",
   "execution_count": 1,
   "metadata": {},
   "outputs": [],
   "source": [
    "import pandas as pd\n",
    "import numpy as np\n",
    "import matplotlib.pyplot as plt\n",
    "import seaborn as sns\n",
    "from sklearn.model_selection import train_test_split\n",
    "from sklearn.preprocessing import StandardScaler\n",
    "\n",
    "df = pd.read_csv('star_classification.csv')"
   ]
  },
  {
   "cell_type": "code",
   "execution_count": 2,
   "metadata": {},
   "outputs": [],
   "source": [
    "target = np.array(pd.get_dummies(df['class']).astype('int64'))\n",
    "features = StandardScaler().fit_transform(np.array(df.drop(columns='class')))\n",
    "\n",
    "xtrain, xtest, ytrain, ytest = train_test_split(features, target, random_state=2, test_size=0.3)"
   ]
  },
  {
   "cell_type": "code",
   "execution_count": 3,
   "metadata": {},
   "outputs": [],
   "source": [
    "from tensorflow.keras.models import Sequential\n",
    "from tensorflow.keras.layers import Dense, Dropout, BatchNormalization\n",
    "from tensorflow.keras.optimizers import SGD, Adam, RMSprop, Adagrad\n",
    "from tensorflow.keras import regularizers\n"
   ]
  },
  {
   "cell_type": "code",
   "execution_count": 4,
   "metadata": {},
   "outputs": [
    {
     "name": "stderr",
     "output_type": "stream",
     "text": [
      "c:\\Users\\Vugar\\AppData\\Local\\Programs\\Python\\Python39\\lib\\site-packages\\keras\\optimizers\\optimizer_v2\\adam.py:114: UserWarning: The `lr` argument is deprecated, use `learning_rate` instead.\n",
      "  super().__init__(name, **kwargs)\n"
     ]
    }
   ],
   "source": [
    "model = Sequential()\n",
    "\n",
    "model.add(Dense(16, activation='relu', input_shape = (xtrain.shape[1], )))\n",
    "model.add(BatchNormalization())\n",
    "model.add(Dropout(0.2))\n",
    "model.add(Dense(256, activation='relu', kernel_regularizer='l2'))\n",
    "model.add(BatchNormalization())\n",
    "model.add(Dropout(0.2))\n",
    "model.add(Dense(128, activation='relu', kernel_regularizer='l2'))\n",
    "model.add(BatchNormalization())\n",
    "model.add(Dropout(0.2))\n",
    "model.add(Dense(3, activation='softmax'))\n",
    "\n",
    "model.compile(loss='categorical_crossentropy', optimizer=Adam(lr=0.001), metrics=['accuracy'])"
   ]
  },
  {
   "cell_type": "code",
   "execution_count": 5,
   "metadata": {},
   "outputs": [
    {
     "name": "stdout",
     "output_type": "stream",
     "text": [
      "Epoch 1/10\n",
      "2188/2188 [==============================] - 14s 5ms/step - loss: 0.8560 - accuracy: 0.8214 - val_loss: 0.3195 - val_accuracy: 0.8970\n",
      "Epoch 2/10\n",
      "2188/2188 [==============================] - 11s 5ms/step - loss: 0.2607 - accuracy: 0.9280 - val_loss: 0.1595 - val_accuracy: 0.9627\n",
      "Epoch 3/10\n",
      "2188/2188 [==============================] - 8s 4ms/step - loss: 0.2194 - accuracy: 0.9410 - val_loss: 0.2514 - val_accuracy: 0.9569\n",
      "Epoch 4/10\n",
      "2188/2188 [==============================] - 7s 3ms/step - loss: 0.1996 - accuracy: 0.9481 - val_loss: 0.1519 - val_accuracy: 0.9626\n",
      "Epoch 5/10\n",
      "2188/2188 [==============================] - 7s 3ms/step - loss: 0.1924 - accuracy: 0.9501 - val_loss: 0.1602 - val_accuracy: 0.9616\n",
      "Epoch 6/10\n",
      "2188/2188 [==============================] - 7s 3ms/step - loss: 0.1839 - accuracy: 0.9526 - val_loss: 0.2340 - val_accuracy: 0.9637\n",
      "Epoch 7/10\n",
      "2188/2188 [==============================] - 8s 4ms/step - loss: 0.1790 - accuracy: 0.9537 - val_loss: 0.1361 - val_accuracy: 0.9666\n",
      "Epoch 8/10\n",
      "2188/2188 [==============================] - 7s 3ms/step - loss: 0.1753 - accuracy: 0.9546 - val_loss: 0.1739 - val_accuracy: 0.9635\n",
      "Epoch 9/10\n",
      "2188/2188 [==============================] - 7s 3ms/step - loss: 0.1720 - accuracy: 0.9559 - val_loss: 0.1354 - val_accuracy: 0.9658\n",
      "Epoch 10/10\n",
      "2188/2188 [==============================] - 7s 3ms/step - loss: 0.1684 - accuracy: 0.9574 - val_loss: 0.1282 - val_accuracy: 0.9678\n"
     ]
    }
   ],
   "source": [
    "train = model.fit(\n",
    "    xtrain, \n",
    "    ytrain,\n",
    "    batch_size=32, \n",
    "    verbose=1,\n",
    "    epochs=10,\n",
    "    validation_data= (xtest, ytest)\n",
    ")\n",
    "\n",
    "# train with cross validation\n",
    "# from tensorflow.keras.wrappers.scikit_learn import KerasClassifier\n",
    "# from sklearn.model_selection import cross_val_score\n",
    "\n",
    "# def build_classifier():\n",
    "#     model = Sequential()\n",
    "\n",
    "#     model.add(Dense(16, activation='relu', input_shape = (xtrain.shape[1], )))\n",
    "#     model.add(BatchNormalization())\n",
    "#     model.add(Dropout(0.2))\n",
    "#     model.add(Dense(256, activation='relu', kernel_regularizer='l2'))\n",
    "#     model.add(BatchNormalization())\n",
    "#     model.add(Dropout(0.2))\n",
    "#     model.add(Dense(128, activation='relu', kernel_regularizer='l2'))\n",
    "#     model.add(BatchNormalization())\n",
    "#     model.add(Dropout(0.2))\n",
    "#     model.add(Dense(3, activation='softmax'))\n",
    "\n",
    "#     model.compile(loss='categorical_crossentropy', optimizer=Adam(lr=0.001), metrics=['accuracy'])\n",
    "#     return model\n",
    "\n",
    "# classifier = KerasClassifier(build_fn=build_classifier, batch_size=32, epochs=10)\n",
    "# accuracies = cross_val_score(estimator=classifier, X=xtrain, y=ytrain, cv=10, n_jobs=-1)\n",
    "# mean = accuracies.mean()\n",
    "# variance = accuracies.std()\n"
   ]
  },
  {
   "cell_type": "code",
   "execution_count": 6,
   "metadata": {},
   "outputs": [
    {
     "name": "stdout",
     "output_type": "stream",
     "text": [
      "Test loss: 0.1282351016998291\n",
      "Test accuracy: 0.9677666425704956\n"
     ]
    }
   ],
   "source": [
    "# show test data accuracy\n",
    "score = model.evaluate(xtest, ytest, verbose=0)\n",
    "print('Test loss:', score[0])\n",
    "print('Test accuracy:', score[1])"
   ]
  },
  {
   "cell_type": "code",
   "execution_count": null,
   "metadata": {},
   "outputs": [
    {
     "data": {
      "text/plain": [
       "70000"
      ]
     },
     "execution_count": 52,
     "metadata": {},
     "output_type": "execute_result"
    }
   ],
   "source": []
  }
 ],
 "metadata": {
  "kernelspec": {
   "display_name": "Python 3",
   "language": "python",
   "name": "python3"
  },
  "language_info": {
   "codemirror_mode": {
    "name": "ipython",
    "version": 3
   },
   "file_extension": ".py",
   "mimetype": "text/x-python",
   "name": "python",
   "nbconvert_exporter": "python",
   "pygments_lexer": "ipython3",
   "version": "3.9.12 (tags/v3.9.12:b28265d, Mar 23 2022, 23:52:46) [MSC v.1929 64 bit (AMD64)]"
  },
  "orig_nbformat": 4,
  "vscode": {
   "interpreter": {
    "hash": "c815d5522d730692d6fc1bd8cf8011d5716afbe816a33b6bfcadd78ff6b33837"
   }
  }
 },
 "nbformat": 4,
 "nbformat_minor": 2
}
