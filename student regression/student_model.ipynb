{
 "cells": [
  {
   "cell_type": "code",
   "execution_count": 30,
   "metadata": {},
   "outputs": [],
   "source": [
    "import pandas as pd\n",
    "import numpy as np\n",
    "import matplotlib.pyplot as plt\n",
    "import seaborn as sns\n",
    "import warnings\n",
    "warnings.filterwarnings('ignore')\n",
    "\n",
    "xtest = pd.read_csv('X_test.csv')\n",
    "xtrain = pd.read_csv('X_train.csv')\n",
    "ytest = pd.read_csv(\"y_test.csv\")\n",
    "ytrain = pd.read_csv(\"y_train.csv\")\n",
    "\n",
    "df = pd.concat([xtest, xtrain], axis=0).sort_values(by='StudentID')\n",
    "yresult = pd.concat([ytrain, ytest], axis=0).sort_values(by='StudentID')\n",
    "\n",
    "df = pd.concat([df, yresult.drop(columns='StudentID')], axis=1).drop(columns='StudentID')\n"
   ]
  },
  {
   "cell_type": "code",
   "execution_count": 31,
   "metadata": {},
   "outputs": [
    {
     "data": {
      "text/plain": [
       "59"
      ]
     },
     "execution_count": 31,
     "metadata": {},
     "output_type": "execute_result"
    }
   ],
   "source": [
    "#one hot sklearn\n",
    "from sklearn.preprocessing import OneHotEncoder\n",
    "\n",
    "for i in df.columns:\n",
    "    if(df[i].dtype in ['object', 'str']):\n",
    "        df = pd.concat([pd.get_dummies(df[i], prefix=f'{i}').astype('int64'), df.drop(columns=i)], axis=1)\n",
    "\n",
    "len(df.columns)\n",
    "        "
   ]
  },
  {
   "cell_type": "code",
   "execution_count": 35,
   "metadata": {},
   "outputs": [],
   "source": [
    "from sklearn.model_selection import train_test_split\n",
    "from sklearn.preprocessing import StandardScaler\n",
    "\n",
    "target = np.array(df['G3'])\n",
    "features = StandardScaler().fit_transform(np.array(df.drop(columns='G3')))\n",
    "\n",
    "\n",
    "xtrain, xtest, ytrain, ytest = train_test_split(features, target, random_state=23, test_size=0.2)"
   ]
  },
  {
   "cell_type": "code",
   "execution_count": 39,
   "metadata": {},
   "outputs": [],
   "source": [
    "import tensorflow as tf\n",
    "from tensorflow.keras.models import Sequential\n",
    "from tensorflow.keras.layers import Dense, Dropout, BatchNormalization\n",
    "from tensorflow.keras import regularizers\n",
    "from tensorflow.keras.optimizers import Adam"
   ]
  },
  {
   "cell_type": "code",
   "execution_count": 132,
   "metadata": {},
   "outputs": [
    {
     "ename": "NameError",
     "evalue": "name 'rmse' is not defined",
     "output_type": "error",
     "traceback": [
      "\u001b[1;31m---------------------------------------------------------------------------\u001b[0m",
      "\u001b[1;31mNameError\u001b[0m                                 Traceback (most recent call last)",
      "Cell \u001b[1;32mIn [132], line 17\u001b[0m\n\u001b[0;32m     13\u001b[0m model\u001b[39m.\u001b[39madd(Dropout(\u001b[39m0.2\u001b[39m))\n\u001b[0;32m     15\u001b[0m model\u001b[39m.\u001b[39madd(Dense(\u001b[39m1\u001b[39m))\n\u001b[1;32m---> 17\u001b[0m model\u001b[39m.\u001b[39mcompile(optimizer\u001b[39m=\u001b[39mAdam(lr\u001b[39m=\u001b[39m\u001b[39m0.02\u001b[39m), loss\u001b[39m=\u001b[39mtf\u001b[39m.\u001b[39mkeras\u001b[39m.\u001b[39mlosses\u001b[39m.\u001b[39mmae, metrics\u001b[39m=\u001b[39m[rmse])\n",
      "\u001b[1;31mNameError\u001b[0m: name 'rmse' is not defined"
     ]
    }
   ],
   "source": [
    "model = Sequential()\n",
    "\n",
    "model.add(Dense(64, activation='relu', input_shape=(xtrain.shape[1],)))\n",
    "model.add(BatchNormalization())\n",
    "model.add(Dropout(0.2))\n",
    "\n",
    "model.add(Dense(128, activation='relu', kernel_regularizer='l2'))\n",
    "model.add(BatchNormalization())\n",
    "model.add(Dropout(0.2))\n",
    "\n",
    "model.add(Dense(64, activation='relu', kernel_regularizer='l2'))\n",
    "model.add(BatchNormalization())\n",
    "model.add(Dropout(0.2))\n",
    "\n",
    "model.add(Dense(1))\n",
    "\n",
    "model.compile(optimizer=Adam(lr=0.02), loss=tf.keras.losses.mae, metrics=[tf.keras.metrics.RootMeanSquaredError])\n"
   ]
  },
  {
   "cell_type": "code",
   "execution_count": 133,
   "metadata": {},
   "outputs": [
    {
     "ename": "RuntimeError",
     "evalue": "You must compile your model before training/testing. Use `model.compile(optimizer, loss)`.",
     "output_type": "error",
     "traceback": [
      "\u001b[1;31m---------------------------------------------------------------------------\u001b[0m",
      "\u001b[1;31mRuntimeError\u001b[0m                              Traceback (most recent call last)",
      "Cell \u001b[1;32mIn [133], line 1\u001b[0m\n\u001b[1;32m----> 1\u001b[0m train \u001b[39m=\u001b[39m model\u001b[39m.\u001b[39mfit(\n\u001b[0;32m      2\u001b[0m     xtrain, \n\u001b[0;32m      3\u001b[0m     ytrain,\n\u001b[0;32m      4\u001b[0m     epochs\u001b[39m=\u001b[39m\u001b[39m10\u001b[39m, \n\u001b[0;32m      5\u001b[0m     batch_size\u001b[39m=\u001b[39m\u001b[39m32\u001b[39m,\n\u001b[0;32m      6\u001b[0m     validation_data\u001b[39m=\u001b[39m(xtest, ytest)\n\u001b[0;32m      7\u001b[0m )\n",
      "File \u001b[1;32mc:\\Users\\Vugar\\AppData\\Local\\Programs\\Python\\Python39\\lib\\site-packages\\keras\\utils\\traceback_utils.py:70\u001b[0m, in \u001b[0;36mfilter_traceback.<locals>.error_handler\u001b[1;34m(*args, **kwargs)\u001b[0m\n\u001b[0;32m     67\u001b[0m     filtered_tb \u001b[39m=\u001b[39m _process_traceback_frames(e\u001b[39m.\u001b[39m__traceback__)\n\u001b[0;32m     68\u001b[0m     \u001b[39m# To get the full stack trace, call:\u001b[39;00m\n\u001b[0;32m     69\u001b[0m     \u001b[39m# `tf.debugging.disable_traceback_filtering()`\u001b[39;00m\n\u001b[1;32m---> 70\u001b[0m     \u001b[39mraise\u001b[39;00m e\u001b[39m.\u001b[39mwith_traceback(filtered_tb) \u001b[39mfrom\u001b[39;00m \u001b[39mNone\u001b[39m\n\u001b[0;32m     71\u001b[0m \u001b[39mfinally\u001b[39;00m:\n\u001b[0;32m     72\u001b[0m     \u001b[39mdel\u001b[39;00m filtered_tb\n",
      "File \u001b[1;32mc:\\Users\\Vugar\\AppData\\Local\\Programs\\Python\\Python39\\lib\\site-packages\\keras\\engine\\training.py:3618\u001b[0m, in \u001b[0;36mModel._assert_compile_was_called\u001b[1;34m(self)\u001b[0m\n\u001b[0;32m   3612\u001b[0m \u001b[39mdef\u001b[39;00m \u001b[39m_assert_compile_was_called\u001b[39m(\u001b[39mself\u001b[39m):\n\u001b[0;32m   3613\u001b[0m     \u001b[39m# Checks whether `compile` has been called. If it has been called,\u001b[39;00m\n\u001b[0;32m   3614\u001b[0m     \u001b[39m# then the optimizer is set. This is different from whether the\u001b[39;00m\n\u001b[0;32m   3615\u001b[0m     \u001b[39m# model is compiled\u001b[39;00m\n\u001b[0;32m   3616\u001b[0m     \u001b[39m# (i.e. whether the model is built and its inputs/outputs are set).\u001b[39;00m\n\u001b[0;32m   3617\u001b[0m     \u001b[39mif\u001b[39;00m \u001b[39mnot\u001b[39;00m \u001b[39mself\u001b[39m\u001b[39m.\u001b[39m_is_compiled:\n\u001b[1;32m-> 3618\u001b[0m         \u001b[39mraise\u001b[39;00m \u001b[39mRuntimeError\u001b[39;00m(\n\u001b[0;32m   3619\u001b[0m             \u001b[39m\"\u001b[39m\u001b[39mYou must compile your model before \u001b[39m\u001b[39m\"\u001b[39m\n\u001b[0;32m   3620\u001b[0m             \u001b[39m\"\u001b[39m\u001b[39mtraining/testing. \u001b[39m\u001b[39m\"\u001b[39m\n\u001b[0;32m   3621\u001b[0m             \u001b[39m\"\u001b[39m\u001b[39mUse `model.compile(optimizer, loss)`.\u001b[39m\u001b[39m\"\u001b[39m\n\u001b[0;32m   3622\u001b[0m         )\n",
      "\u001b[1;31mRuntimeError\u001b[0m: You must compile your model before training/testing. Use `model.compile(optimizer, loss)`."
     ]
    }
   ],
   "source": [
    "train = model.fit(\n",
    "    xtrain, \n",
    "    ytrain,\n",
    "    epochs=10, \n",
    "    batch_size=32,\n",
    "    validation_data=(xtest, ytest)\n",
    ")"
   ]
  },
  {
   "cell_type": "code",
   "execution_count": 127,
   "metadata": {},
   "outputs": [
    {
     "name": "stdout",
     "output_type": "stream",
     "text": [
      "7/7 [==============================] - 0s 1ms/step\n",
      "7/7 [==============================] - 0s 1ms/step\n"
     ]
    }
   ],
   "source": [
    "model.predict(xtest)\n",
    "\n",
    "# accuracy\n",
    "ypred = model.predict(xtest)\n",
    "\n",
    "def accuracy(ytest, ypred):\n",
    "    right = 0\n",
    "    total = 0\n",
    "    for i, x in zip(ytest, ypred):\n",
    "        if(i > x[0]-1 and i < x[0] + 1):\n",
    "            right += 1\n",
    "        total += 1\n",
    "    return right/total"
   ]
  },
  {
   "cell_type": "code",
   "execution_count": 128,
   "metadata": {},
   "outputs": [
    {
     "data": {
      "text/plain": [
       "0.5550239234449761"
      ]
     },
     "execution_count": 128,
     "metadata": {},
     "output_type": "execute_result"
    }
   ],
   "source": [
    "accuracy(ytest, ypred)"
   ]
  },
  {
   "cell_type": "code",
   "execution_count": 129,
   "metadata": {},
   "outputs": [
    {
     "name": "stdout",
     "output_type": "stream",
     "text": [
      "13 13\n",
      "12 12\n",
      "13 12\n",
      "11 13\n",
      "11 10\n",
      "13 14\n",
      "14 14\n",
      "14 13\n",
      "16 16\n",
      "15 16\n",
      "15 15\n",
      "9 11\n",
      "16 14\n",
      "8 10\n",
      "15 16\n",
      "18 18\n",
      "9 11\n",
      "9 11\n",
      "11 12\n",
      "11 12\n",
      "11 11\n",
      "16 16\n",
      "16 17\n",
      "13 14\n",
      "10 11\n",
      "14 15\n",
      "0 10\n",
      "12 12\n",
      "12 12\n",
      "15 15\n",
      "13 13\n",
      "13 13\n",
      "11 12\n",
      "4 6\n",
      "13 12\n",
      "11 11\n",
      "14 15\n",
      "14 15\n",
      "10 11\n",
      "11 12\n",
      "7 7\n",
      "9 9\n",
      "12 12\n",
      "0 6\n",
      "11 11\n",
      "16 15\n",
      "13 13\n",
      "13 12\n",
      "14 13\n",
      "11 13\n",
      "12 13\n",
      "10 11\n",
      "14 12\n",
      "15 13\n",
      "13 14\n",
      "14 15\n",
      "15 16\n",
      "11 11\n",
      "16 16\n",
      "8 7\n",
      "11 11\n",
      "13 13\n",
      "10 11\n",
      "0 11\n",
      "11 12\n",
      "15 15\n",
      "13 13\n",
      "15 15\n",
      "13 12\n",
      "11 12\n",
      "10 12\n",
      "13 13\n",
      "14 16\n",
      "11 11\n",
      "9 11\n",
      "16 17\n",
      "12 12\n",
      "13 13\n",
      "11 12\n",
      "11 11\n",
      "17 16\n",
      "10 10\n",
      "14 15\n",
      "8 9\n",
      "15 13\n",
      "9 10\n",
      "14 12\n",
      "11 11\n",
      "10 9\n",
      "11 12\n",
      "11 12\n",
      "13 13\n",
      "12 12\n",
      "10 12\n",
      "10 9\n",
      "13 13\n",
      "8 9\n",
      "13 13\n",
      "10 10\n",
      "11 10\n",
      "16 16\n",
      "9 11\n",
      "12 12\n",
      "10 11\n",
      "17 15\n",
      "10 10\n",
      "18 18\n",
      "12 12\n",
      "13 14\n",
      "13 12\n",
      "11 12\n",
      "10 12\n",
      "13 12\n",
      "9 12\n",
      "10 13\n",
      "13 13\n",
      "16 15\n",
      "16 16\n",
      "12 14\n",
      "12 13\n",
      "11 12\n",
      "13 13\n",
      "16 16\n",
      "9 10\n",
      "10 11\n",
      "11 12\n",
      "12 14\n",
      "10 12\n",
      "14 13\n",
      "18 18\n",
      "17 17\n",
      "18 17\n",
      "13 14\n",
      "10 11\n",
      "12 13\n",
      "12 12\n",
      "11 12\n",
      "14 14\n",
      "16 17\n",
      "10 11\n",
      "10 11\n",
      "12 11\n",
      "10 11\n",
      "0 7\n",
      "13 12\n",
      "0 11\n",
      "12 11\n",
      "11 11\n",
      "10 11\n",
      "15 13\n",
      "11 11\n",
      "11 12\n",
      "17 18\n",
      "12 12\n",
      "8 8\n",
      "10 13\n",
      "14 15\n",
      "18 17\n",
      "11 12\n",
      "10 11\n",
      "6 9\n",
      "14 15\n",
      "0 6\n",
      "10 11\n",
      "10 11\n",
      "10 11\n",
      "12 13\n",
      "0 1\n",
      "15 15\n",
      "6 6\n",
      "11 12\n",
      "12 13\n",
      "15 15\n",
      "12 11\n",
      "0 5\n",
      "15 14\n",
      "8 11\n",
      "12 12\n",
      "0 11\n",
      "11 13\n",
      "19 19\n",
      "11 12\n",
      "7 9\n",
      "7 9\n",
      "16 16\n",
      "13 14\n",
      "15 16\n",
      "10 11\n",
      "18 19\n",
      "0 8\n",
      "12 13\n",
      "13 13\n",
      "14 16\n",
      "19 19\n",
      "12 14\n",
      "13 13\n",
      "11 11\n",
      "8 11\n",
      "10 11\n",
      "11 14\n",
      "11 14\n",
      "9 10\n",
      "18 19\n",
      "9 12\n",
      "18 18\n",
      "9 11\n",
      "13 12\n",
      "7 7\n",
      "12 14\n"
     ]
    }
   ],
   "source": [
    "for i, x in zip(ytest, ypred):\n",
    "    print(i, round(x[0]))"
   ]
  },
  {
   "cell_type": "code",
   "execution_count": null,
   "metadata": {},
   "outputs": [],
   "source": []
  }
 ],
 "metadata": {
  "kernelspec": {
   "display_name": "Python 3",
   "language": "python",
   "name": "python3"
  },
  "language_info": {
   "codemirror_mode": {
    "name": "ipython",
    "version": 3
   },
   "file_extension": ".py",
   "mimetype": "text/x-python",
   "name": "python",
   "nbconvert_exporter": "python",
   "pygments_lexer": "ipython3",
   "version": "3.9.12"
  },
  "orig_nbformat": 4,
  "vscode": {
   "interpreter": {
    "hash": "c815d5522d730692d6fc1bd8cf8011d5716afbe816a33b6bfcadd78ff6b33837"
   }
  }
 },
 "nbformat": 4,
 "nbformat_minor": 2
}
