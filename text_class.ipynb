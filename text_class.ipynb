{
  "nbformat": 4,
  "nbformat_minor": 0,
  "metadata": {
    "colab": {
      "provenance": []
    },
    "kernelspec": {
      "name": "python3",
      "display_name": "Python 3"
    },
    "language_info": {
      "name": "python"
    },
    "accelerator": "GPU",
    "gpuClass": "standard"
  },
  "cells": [
    {
      "cell_type": "code",
      "execution_count": 162,
      "metadata": {
        "id": "GE6ePxR3gEk_"
      },
      "outputs": [],
      "source": [
        "import pandas as pd\n",
        "import numpy as np"
      ]
    },
    {
      "cell_type": "code",
      "source": [
        "data = pd.read_csv('/content/drive/MyDrive/AI FOR COLAB/notebooks TF course/text classification/ecommerceDataset.csv', header=None)\n",
        "data.columns = ['type', 'text']\n",
        "\n",
        "data = data.dropna()\n",
        "data = data.sample(frac=1)\n",
        "\n",
        "TEXT_DATA = np.array(data['text'])\n",
        "TYPE_DATA = np.array(data['type'])\n",
        "\n",
        "data.head()"
      ],
      "metadata": {
        "colab": {
          "base_uri": "https://localhost:8080/",
          "height": 206
        },
        "id": "cyNhQTIRhERv",
        "outputId": "ef01fba7-fb96-4f1b-d837-e9cd6ece389f"
      },
      "execution_count": 163,
      "outputs": [
        {
          "output_type": "execute_result",
          "data": {
            "text/plain": [
              "            type                                               text\n",
              "28095      Books  Nature, Garden and Forest: Colouring Books for...\n",
              "4951   Household  Fancy Mart Artificial Maple Tree with White Sq...\n",
              "16871  Household  ZEYA Fast Dry Automatic Sensor High Jet Speed ...\n",
              "6290   Household  Story@Home Premium Blackout Solid 2-Piece Faux...\n",
              "15532  Household  Philips Handheld 1000-Watt Garment Steamer (GC..."
            ],
            "text/html": [
              "\n",
              "  <div id=\"df-78bd2990-0ae8-442b-917b-57552f4b0710\">\n",
              "    <div class=\"colab-df-container\">\n",
              "      <div>\n",
              "<style scoped>\n",
              "    .dataframe tbody tr th:only-of-type {\n",
              "        vertical-align: middle;\n",
              "    }\n",
              "\n",
              "    .dataframe tbody tr th {\n",
              "        vertical-align: top;\n",
              "    }\n",
              "\n",
              "    .dataframe thead th {\n",
              "        text-align: right;\n",
              "    }\n",
              "</style>\n",
              "<table border=\"1\" class=\"dataframe\">\n",
              "  <thead>\n",
              "    <tr style=\"text-align: right;\">\n",
              "      <th></th>\n",
              "      <th>type</th>\n",
              "      <th>text</th>\n",
              "    </tr>\n",
              "  </thead>\n",
              "  <tbody>\n",
              "    <tr>\n",
              "      <th>28095</th>\n",
              "      <td>Books</td>\n",
              "      <td>Nature, Garden and Forest: Colouring Books for...</td>\n",
              "    </tr>\n",
              "    <tr>\n",
              "      <th>4951</th>\n",
              "      <td>Household</td>\n",
              "      <td>Fancy Mart Artificial Maple Tree with White Sq...</td>\n",
              "    </tr>\n",
              "    <tr>\n",
              "      <th>16871</th>\n",
              "      <td>Household</td>\n",
              "      <td>ZEYA Fast Dry Automatic Sensor High Jet Speed ...</td>\n",
              "    </tr>\n",
              "    <tr>\n",
              "      <th>6290</th>\n",
              "      <td>Household</td>\n",
              "      <td>Story@Home Premium Blackout Solid 2-Piece Faux...</td>\n",
              "    </tr>\n",
              "    <tr>\n",
              "      <th>15532</th>\n",
              "      <td>Household</td>\n",
              "      <td>Philips Handheld 1000-Watt Garment Steamer (GC...</td>\n",
              "    </tr>\n",
              "  </tbody>\n",
              "</table>\n",
              "</div>\n",
              "      <button class=\"colab-df-convert\" onclick=\"convertToInteractive('df-78bd2990-0ae8-442b-917b-57552f4b0710')\"\n",
              "              title=\"Convert this dataframe to an interactive table.\"\n",
              "              style=\"display:none;\">\n",
              "        \n",
              "  <svg xmlns=\"http://www.w3.org/2000/svg\" height=\"24px\"viewBox=\"0 0 24 24\"\n",
              "       width=\"24px\">\n",
              "    <path d=\"M0 0h24v24H0V0z\" fill=\"none\"/>\n",
              "    <path d=\"M18.56 5.44l.94 2.06.94-2.06 2.06-.94-2.06-.94-.94-2.06-.94 2.06-2.06.94zm-11 1L8.5 8.5l.94-2.06 2.06-.94-2.06-.94L8.5 2.5l-.94 2.06-2.06.94zm10 10l.94 2.06.94-2.06 2.06-.94-2.06-.94-.94-2.06-.94 2.06-2.06.94z\"/><path d=\"M17.41 7.96l-1.37-1.37c-.4-.4-.92-.59-1.43-.59-.52 0-1.04.2-1.43.59L10.3 9.45l-7.72 7.72c-.78.78-.78 2.05 0 2.83L4 21.41c.39.39.9.59 1.41.59.51 0 1.02-.2 1.41-.59l7.78-7.78 2.81-2.81c.8-.78.8-2.07 0-2.86zM5.41 20L4 18.59l7.72-7.72 1.47 1.35L5.41 20z\"/>\n",
              "  </svg>\n",
              "      </button>\n",
              "      \n",
              "  <style>\n",
              "    .colab-df-container {\n",
              "      display:flex;\n",
              "      flex-wrap:wrap;\n",
              "      gap: 12px;\n",
              "    }\n",
              "\n",
              "    .colab-df-convert {\n",
              "      background-color: #E8F0FE;\n",
              "      border: none;\n",
              "      border-radius: 50%;\n",
              "      cursor: pointer;\n",
              "      display: none;\n",
              "      fill: #1967D2;\n",
              "      height: 32px;\n",
              "      padding: 0 0 0 0;\n",
              "      width: 32px;\n",
              "    }\n",
              "\n",
              "    .colab-df-convert:hover {\n",
              "      background-color: #E2EBFA;\n",
              "      box-shadow: 0px 1px 2px rgba(60, 64, 67, 0.3), 0px 1px 3px 1px rgba(60, 64, 67, 0.15);\n",
              "      fill: #174EA6;\n",
              "    }\n",
              "\n",
              "    [theme=dark] .colab-df-convert {\n",
              "      background-color: #3B4455;\n",
              "      fill: #D2E3FC;\n",
              "    }\n",
              "\n",
              "    [theme=dark] .colab-df-convert:hover {\n",
              "      background-color: #434B5C;\n",
              "      box-shadow: 0px 1px 3px 1px rgba(0, 0, 0, 0.15);\n",
              "      filter: drop-shadow(0px 1px 2px rgba(0, 0, 0, 0.3));\n",
              "      fill: #FFFFFF;\n",
              "    }\n",
              "  </style>\n",
              "\n",
              "      <script>\n",
              "        const buttonEl =\n",
              "          document.querySelector('#df-78bd2990-0ae8-442b-917b-57552f4b0710 button.colab-df-convert');\n",
              "        buttonEl.style.display =\n",
              "          google.colab.kernel.accessAllowed ? 'block' : 'none';\n",
              "\n",
              "        async function convertToInteractive(key) {\n",
              "          const element = document.querySelector('#df-78bd2990-0ae8-442b-917b-57552f4b0710');\n",
              "          const dataTable =\n",
              "            await google.colab.kernel.invokeFunction('convertToInteractive',\n",
              "                                                     [key], {});\n",
              "          if (!dataTable) return;\n",
              "\n",
              "          const docLinkHtml = 'Like what you see? Visit the ' +\n",
              "            '<a target=\"_blank\" href=https://colab.research.google.com/notebooks/data_table.ipynb>data table notebook</a>'\n",
              "            + ' to learn more about interactive tables.';\n",
              "          element.innerHTML = '';\n",
              "          dataTable['output_type'] = 'display_data';\n",
              "          await google.colab.output.renderOutput(dataTable, element);\n",
              "          const docLink = document.createElement('div');\n",
              "          docLink.innerHTML = docLinkHtml;\n",
              "          element.appendChild(docLink);\n",
              "        }\n",
              "      </script>\n",
              "    </div>\n",
              "  </div>\n",
              "  "
            ]
          },
          "metadata": {},
          "execution_count": 163
        }
      ]
    },
    {
      "cell_type": "code",
      "source": [
        "import tensorflow as tf\n",
        "from tensorflow.keras.preprocessing.text import Tokenizer\n",
        "from tensorflow.keras.preprocessing.sequence import pad_sequences"
      ],
      "metadata": {
        "id": "yv0IcTdYhX_H"
      },
      "execution_count": null,
      "outputs": []
    },
    {
      "cell_type": "code",
      "source": [
        "VOCAB_SIZE=10000\n",
        "OOV_TOKEN='<BLNK>'\n",
        "PADDING_TYPE='post'\n",
        "TRUNC_TYPE='post'\n",
        "MAX_LEN=100\n",
        "\n",
        "tokenizer = Tokenizer(num_words=VOCAB_SIZE, oov_token=OOV_TOKEN)\n",
        "tokenizer.fit_on_texts(TEXT_DATA)\n",
        "word_index = tokenizer.word_index\n",
        "\n",
        "sequences = tokenizer.texts_to_sequences(data['text'])\n",
        "padded = pad_sequences(sequences, maxlen=MAX_LEN, padding=PADDING_TYPE, truncating=TRUNC_TYPE)\n",
        "\n",
        "TEXT_DATA = padded\n",
        "TYPE_DATA = pd.get_dummies(data['type'])"
      ],
      "metadata": {
        "id": "rgk-cfjFiU1w"
      },
      "execution_count": null,
      "outputs": []
    },
    {
      "cell_type": "code",
      "source": [
        "from sklearn.model_selection import train_test_split\n",
        "\n",
        "xtrain, xtest, ytrain, ytest = train_test_split(TEXT_DATA, TYPE_DATA, test_size=0.2)"
      ],
      "metadata": {
        "id": "VVI8iLmMinmJ"
      },
      "execution_count": null,
      "outputs": []
    },
    {
      "cell_type": "code",
      "source": [
        "from tensorflow.keras.models import Sequential\n",
        "from tensorflow.keras.layers import Dense, Dropout, BatchNormalization, LSTM, Bidirectional, Lambda, Embedding, Conv1D, GlobalMaxPooling1D, Flatten\n",
        "\n",
        "EMBEDDING_DIM = 64\n",
        "\n",
        "model = Sequential()\n",
        "model.add(Embedding(VOCAB_SIZE, EMBEDDING_DIM, input_length=MAX_LEN))\n",
        "model.add(Bidirectional(LSTM(16, return_sequences=True)))\n",
        "model.add(Conv1D(filters=128, kernel_size=3, activation='relu'))\n",
        "model.add(GlobalMaxPooling1D())\n",
        "model.add(Flatten())\n",
        "model.add(Dense(128, activation='relu'))\n",
        "model.add(Dense(4, activation='softmax'))\n",
        "\n",
        "model.compile(loss='categorical_crossentropy', optimizer='adam', metrics=['accuracy'])"
      ],
      "metadata": {
        "id": "kDYuxsrli4yh"
      },
      "execution_count": null,
      "outputs": []
    },
    {
      "cell_type": "code",
      "source": [
        "history = model.fit(xtrain, ytrain,\n",
        "          epochs=2,\n",
        "          validation_data=(xtest, ytest))"
      ],
      "metadata": {
        "colab": {
          "base_uri": "https://localhost:8080/"
        },
        "id": "Krk_atIHl9iV",
        "outputId": "d73aafd7-6bb0-4b41-f721-ec98da304f0a"
      },
      "execution_count": null,
      "outputs": [
        {
          "output_type": "stream",
          "name": "stdout",
          "text": [
            "Epoch 1/2\n",
            "1261/1261 [==============================] - 24s 15ms/step - loss: 0.2109 - accuracy: 0.9321 - val_loss: 0.1141 - val_accuracy: 0.9694\n",
            "Epoch 2/2\n",
            "1261/1261 [==============================] - 18s 14ms/step - loss: 0.0579 - accuracy: 0.9839 - val_loss: 0.0925 - val_accuracy: 0.9763\n"
          ]
        }
      ]
    },
    {
      "cell_type": "code",
      "source": [
        "res = {\n",
        "    0: 'Books',\n",
        "    1: 'Clothing & Accessories',\n",
        "    2: 'Electronics',\n",
        "    3: 'Household'\n",
        "}\n",
        "\n",
        "category = 'scissors iron broom'\n",
        "res[np.argmax(model.predict(pad_sequences(tokenizer.texts_to_sequences([category]), maxlen=MAX_LEN, padding=PADDING_TYPE, truncating=TRUNC_TYPE)))]"
      ],
      "metadata": {
        "colab": {
          "base_uri": "https://localhost:8080/",
          "height": 53
        },
        "id": "NdhBk4vTwGky",
        "outputId": "0e7a79f9-d67e-46b9-fc87-b3b74fdc8922"
      },
      "execution_count": 161,
      "outputs": [
        {
          "output_type": "stream",
          "name": "stdout",
          "text": [
            "1/1 [==============================] - 0s 19ms/step\n"
          ]
        },
        {
          "output_type": "execute_result",
          "data": {
            "text/plain": [
              "'Household'"
            ],
            "application/vnd.google.colaboratory.intrinsic+json": {
              "type": "string"
            }
          },
          "metadata": {},
          "execution_count": 161
        }
      ]
    },
    {
      "cell_type": "code",
      "source": [
        "class dataProcess():\n",
        "  def __init__(self, TEXT_DATA, TYPE_DATA, VOCAB_SIZE, OOV_TOKEN, PADDING_TYPE, TRUNC_TYPE, MAX_LEN):\n",
        "    self.TEXT_DATA = TEXT_DATA\n",
        "    self.TYPE_DATA = TYPE_DATA\n",
        "    self.VOCAB_SIZE = VOCAB_SIZE\n",
        "    self.OOV_TOKEN = OOV_TOKEN\n",
        "    self.PADDING_TYPE = PADDING_TYPE\n",
        "    self.TRUNC_TYPE = TRUNC_TYPE\n",
        "    self.MAX_LEN = MAX_LEN\n",
        "\n",
        "  def preprocess(self):\n",
        "    tokenizer = Tokenizer(num_words=VOCAB_SIZE, oov_token=OOV_TOKEN)\n",
        "    tokenizer.fit_on_texts(self.TEXT_DATA)\n",
        "    word_index = tokenizer.word_index\n",
        "    sequences = tokenizer.texts_to_sequences(self.TEXT_DATA)\n",
        "    padded = pad_sequences(sequences, maxlen=MAX_LEN, padding=PADDING_TYPE, truncating=TRUNC_TYPE)\n",
        "    return padded\n",
        "\n",
        "  def train_test(self):\n",
        "    text_data = self.preprocess()\n",
        "    xtrain, xtest, ytrain, ytest = train_test_split(text_data, self.TYPE_DATA, test_size=0.2)\n",
        "    return xtrain, xtest, ytrain, ytest\n",
        "\n",
        "  def data_handler(self):\n",
        "    return self.train_test()\n",
        "\n"
      ],
      "metadata": {
        "id": "KKAsOubiApmX"
      },
      "execution_count": 158,
      "outputs": []
    },
    {
      "cell_type": "code",
      "source": [
        "data_pr = dataProcess(TEXT_DATA, TYPE_DATA, VOCAB_SIZE, OOV_TOKEN, PADDING_TYPE, TRUNC_TYPE, MAX_LEN)\n",
        "xtrain, xtest, ytrain, ytest = data_pr.data_handler()"
      ],
      "metadata": {
        "id": "tafoqDAhc7j-"
      },
      "execution_count": null,
      "outputs": []
    },
    {
      "cell_type": "code",
      "source": [
        "class model():\n",
        "  def __init__(self, xtrain, xtest, ytrain, ytest, epochs, input_class):\n",
        "    self.xtrain = xtrain\n",
        "    self.xtest = xtest\n",
        "    self.ytrain = ytrain\n",
        "    self.ytest = ytest\n",
        "    self.input_class = input_class\n",
        "\n",
        "  def create_model(self):\n",
        "    model = Sequential()\n",
        "    model.add(Embedding(VOCAB_SIZE, EMBEDDING_DIM, input_length=MAX_LEN))\n",
        "    model.add(Bidirectional(LSTM(16, return_sequences=True)))\n",
        "    model.add(Conv1D(filters=128, kernel_size=3, activation='relu'))\n",
        "    model.add(GlobalMaxPooling1D())\n",
        "    model.add(Flatten())\n",
        "    model.add(Dense(128, activation='relu'))\n",
        "    model.add(Dense(4, activation='softmax'))\n",
        "\n",
        "    model.compile(loss='categorical_crossentropy', optimizer='adam', metrics=['accuracy'])\n",
        "\n",
        "  def init_model(self):\n",
        "    self.create_model()\n",
        "    model.fit(xtrain, ytrain,\n",
        "          epochs=self.epochs,\n",
        "          validation_data=(xtest, ytest))"
      ],
      "metadata": {
        "id": "P67nS7jGCWQ6"
      },
      "execution_count": null,
      "outputs": []
    },
    {
      "cell_type": "code",
      "source": [
        "model = model(xtrain, xtest, ytrain, ytest, 50, data_pr)\n",
        "model.init_model()"
      ],
      "metadata": {
        "id": "FGmqJrK4emkr"
      },
      "execution_count": null,
      "outputs": []
    },
    {
      "cell_type": "code",
      "source": [],
      "metadata": {
        "id": "k1j42XIXgs6H"
      },
      "execution_count": null,
      "outputs": []
    }
  ]
}